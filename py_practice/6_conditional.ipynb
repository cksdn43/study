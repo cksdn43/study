{
 "cells": [
  {
   "cell_type": "code",
   "execution_count": 1,
   "metadata": {},
   "outputs": [
    {
     "name": "stdout",
     "output_type": "stream",
     "text": [
      "두 개의 값은 같습니다.\n"
     ]
    }
   ],
   "source": [
    "a = 1\n",
    "b = 1\n",
    "if a == b:\n",
    "    print(\"두 개의 값은 같습니다.\")\n",
    "if a != b:\n",
    "    print(\"두 개의 값은 같지 않습니다.\")"
   ]
  },
  {
   "cell_type": "code",
   "execution_count": 2,
   "metadata": {},
   "outputs": [
    {
     "name": "stdout",
     "output_type": "stream",
     "text": [
      "두 개의 값은 같지 않습니다.\n"
     ]
    }
   ],
   "source": [
    "a = 1\n",
    "b = 2\n",
    "if a == b:\n",
    "    print(\"두 개의 값은 같습니다.\")\n",
    "else:\n",
    "    print(\"두 개의 값은 같지 않습니다.\")"
   ]
  },
  {
   "cell_type": "code",
   "execution_count": 3,
   "metadata": {},
   "outputs": [
    {
     "name": "stdout",
     "output_type": "stream",
     "text": [
      "b 값이 더 큽니다.\n"
     ]
    }
   ],
   "source": [
    "a = 1\n",
    "b = 2\n",
    "if a > b:\n",
    "    print(\"a의 값이 더 큽니다.\")\n",
    "elif a < b:\n",
    "    print(\"b 값이 더 큽니다.\")\n",
    "else:\n",
    "    print(\"두 개의 값은 같습니다.\")"
   ]
  },
  {
   "cell_type": "code",
   "execution_count": 4,
   "metadata": {},
   "outputs": [
    {
     "name": "stdout",
     "output_type": "stream",
     "text": [
      "a 값이 더 크거나 같습니다.\n",
      "a 값이 더 작거나 같습니다.\n"
     ]
    }
   ],
   "source": [
    "a = 1\n",
    "b = 1\n",
    "if a >= b:\n",
    "    print(\"a 값이 더 크거나 같습니다.\")\n",
    "if a <= b:\n",
    "    print(\"a 값이 더 작거나 같습니다.\")"
   ]
  },
  {
   "cell_type": "code",
   "execution_count": 5,
   "metadata": {},
   "outputs": [
    {
     "name": "stdout",
     "output_type": "stream",
     "text": [
      "두 조건 모두 만족\n",
      "두 조건 중 하나라도 만족하면\n"
     ]
    }
   ],
   "source": [
    "a = 1\n",
    "b = 1\n",
    "c = 2\n",
    "d = 2\n",
    "if a == b and c == d:\n",
    "    print(\"두 조건 모두 만족\")\n",
    "if a == b or c == d:\n",
    "    print(\"두 조건 중 하나라도 만족하면\")"
   ]
  },
  {
   "cell_type": "code",
   "execution_count": 7,
   "metadata": {},
   "outputs": [
    {
     "name": "stdout",
     "output_type": "stream",
     "text": [
      "hello python 문자열이 같습니다.\n",
      "hello 가 포함되어 있습니다.\n",
      "hi 가 포함되어 있지 않습니다.\n"
     ]
    }
   ],
   "source": [
    "a_str = \"hello python\"\n",
    "if a_str == \"hello python\":\n",
    "    print(\"hello python 문자열이 같습니다.\")\n",
    "if a_str == \"hi python\":\n",
    "    print(\"hi python 문자열이 같습니다.\")\n",
    "if \"hello\" in a_str:\n",
    "    print(\"hello 가 포함되어 있습니다.\")\n",
    "if \"hello\" not in a_str:\n",
    "    print(\"hello 가 포함되어 있지 않습니다.\")\n",
    "if \"hi\" not in a_str:\n",
    "    print(\"hi 가 포함되어 있지 않습니다.\")"
   ]
  },
  {
   "cell_type": "code",
   "execution_count": 8,
   "metadata": {},
   "outputs": [
    {
     "name": "stdout",
     "output_type": "stream",
     "text": [
      "a_list에 안녕 이 포함되어 있습니다.\n",
      "a_list에 숫자 2 가 포함되어 있습니다.\n"
     ]
    }
   ],
   "source": [
    "a_list = [\"안녕\", 1,2,\"파이썬\"]\n",
    "if \"안녕\" in a_list:\n",
    "    print(\"a_list에 안녕 이 포함되어 있습니다.\")\n",
    "if 2 in a_list:\n",
    "    print(\"a_list에 숫자 2 가 포함되어 있습니다.\")"
   ]
  },
  {
   "cell_type": "code",
   "execution_count": 9,
   "metadata": {},
   "outputs": [
    {
     "name": "stdout",
     "output_type": "stream",
     "text": [
      "a_list에 숫자 5는 없습니다.\n"
     ]
    }
   ],
   "source": [
    "a_list = [\"안녕\",1,2,\"파이썬\"]\n",
    "if \"안녕\" not in a_list:\n",
    "    print(\"a_list에 안녕 이 포함되어 있지 않습니다.\")\n",
    "if 5 not in a_list:\n",
    "    print(\"a_list에 숫자 5는 없습니다.\")"
   ]
  }
 ],
 "metadata": {
  "kernelspec": {
   "display_name": "Python 3.10.5 64-bit",
   "language": "python",
   "name": "python3"
  },
  "language_info": {
   "codemirror_mode": {
    "name": "ipython",
    "version": 3
   },
   "file_extension": ".py",
   "mimetype": "text/x-python",
   "name": "python",
   "nbconvert_exporter": "python",
   "pygments_lexer": "ipython3",
   "version": "3.10.5"
  },
  "orig_nbformat": 4,
  "vscode": {
   "interpreter": {
    "hash": "4ec7344cabcfd55053553221ece52939bf1e48a116c01c0881ccae7421127777"
   }
  }
 },
 "nbformat": 4,
 "nbformat_minor": 2
}
