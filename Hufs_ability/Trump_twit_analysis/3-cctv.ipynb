{
 "cells": [
  {
   "cell_type": "code",
   "execution_count": 92,
   "metadata": {},
   "outputs": [],
   "source": [
    "# 참고 코드\n",
    "url = \"http://openapi.seoul.go.kr:8088/sample/--------/1/5/\"\n",
    "file_type = 'json'\n",
    "service_name = 'BukChonInOutPeopleInfo'"
   ]
  },
  {
   "cell_type": "code",
   "execution_count": 93,
   "metadata": {},
   "outputs": [
    {
     "data": {
      "text/plain": [
       "'http://openapi.seoul.go.kr:8088/sample/json/BukChonInOutPeopleInfo/1/5/'"
      ]
     },
     "execution_count": 93,
     "metadata": {},
     "output_type": "execute_result"
    }
   ],
   "source": [
    "url = url.replace('--------', file_type+'/'+service_name)\n",
    "url"
   ]
  },
  {
   "cell_type": "code",
   "execution_count": 94,
   "metadata": {},
   "outputs": [
    {
     "name": "stdout",
     "output_type": "stream",
     "text": [
      "http://openapi.seoul.go.kr:8088/sample\\json\\BukChonInOutPeopleInfo\\1/5/\n"
     ]
    }
   ],
   "source": [
    "import os\n",
    "url = \"http://openapi.seoul.go.kr:8088/sample/--------/1/5/\"\n",
    "file_type = 'json'\n",
    "service_name = 'BukChonInOutPeopleInfo'\n",
    "url2 = url.split('/--------/')\n",
    "print(os.path.join(url2[0], file_type, service_name, url2[1]))"
   ]
  },
  {
   "cell_type": "code",
   "execution_count": 95,
   "metadata": {},
   "outputs": [
    {
     "data": {
      "text/plain": [
       "\"{'BukChonInOutPeopleInfo': {'list_total_count': 29321, 'RESULT': {'CODE': 'INFO-000', 'MESSAGE': '정상 처리되었습니다'}, 'row': [{'DEVICEID': 2.0, 'DEVICENAME': '계동길 69', 'DESCRIPTION': '계동교회 앞', 'STARTTIME': '2022-11-30 21:10:41', 'ENDTIME': '2022-11-30 21:20:41', 'INCOUNT': 9386.0, 'OUTCOUNT': 13749.0}, {'DEVICEID': 1.0, 'DEVICENAME': '율곡로3길 50', 'DESCRIPTION': '덕성여고 앞', 'STARTTIME': '2022-11-30 21:10:41', 'ENDTIME': '2022-11-30 21:20:41', 'INCOUNT': 7903.0, 'OUTCOUNT': 5279.0}, {'DEVICEID': 2.0, 'DEVICENAME': '계동길 69', 'DESCRIPTION': '계동교회 앞', 'STARTTIME': '2022-11-30 21:20:41', 'ENDTIME': '2022-11-30 21:30:41', 'INCOUNT': 9398.0, 'OUTCOUNT': 13776.0}, {'DEVICEID': 1.0, 'DEVICENAME': '율곡로3길 50', 'DESCRIPTION': '덕성여고 앞', 'STARTTIME': '2022-11-30 21:20:41', 'ENDTIME': '2022-11-30 21:30:41', 'INCOUNT': 7927.0, 'OUTCOUNT': 5312.0}, {'DEVICEID': 2.0, 'DEVICENAME': '계동길 69', 'DESCRIPTION': '계동교회 앞', 'STARTTIME': '2022-11-30 21:30:41', 'ENDTIME': '2022-11-30 21:40:41', 'INCOUNT': 9414.0, 'OUTCOUNT': 13800.0}]}}\""
      ]
     },
     "execution_count": 95,
     "metadata": {},
     "output_type": "execute_result"
    }
   ],
   "source": [
    "data = str({\"BukChonInOutPeopleInfo\":{\"list_total_count\":29321,\"RESULT\":{\"CODE\":\"INFO-000\",\"MESSAGE\":\"정상 처리되었습니다\"},\"row\":[{\"DEVICEID\":2.0,\"DEVICENAME\":\"계동길 69\",\"DESCRIPTION\":\"계동교회 앞\",\"STARTTIME\":\"2022-11-30 21:10:41\",\"ENDTIME\":\"2022-11-30 21:20:41\",\"INCOUNT\":9386.0,\"OUTCOUNT\":13749.0},{\"DEVICEID\":1.0,\"DEVICENAME\":\"율곡로3길 50\",\"DESCRIPTION\":\"덕성여고 앞\",\"STARTTIME\":\"2022-11-30 21:10:41\",\"ENDTIME\":\"2022-11-30 21:20:41\",\"INCOUNT\":7903.0,\"OUTCOUNT\":5279.0},{\"DEVICEID\":2.0,\"DEVICENAME\":\"계동길 69\",\"DESCRIPTION\":\"계동교회 앞\",\"STARTTIME\":\"2022-11-30 21:20:41\",\"ENDTIME\":\"2022-11-30 21:30:41\",\"INCOUNT\":9398.0,\"OUTCOUNT\":13776.0},{\"DEVICEID\":1.0,\"DEVICENAME\":\"율곡로3길 50\",\"DESCRIPTION\":\"덕성여고 앞\",\"STARTTIME\":\"2022-11-30 21:20:41\",\"ENDTIME\":\"2022-11-30 21:30:41\",\"INCOUNT\":7927.0,\"OUTCOUNT\":5312.0},{\"DEVICEID\":2.0,\"DEVICENAME\":\"계동길 69\",\"DESCRIPTION\":\"계동교회 앞\",\"STARTTIME\":\"2022-11-30 21:30:41\",\"ENDTIME\":\"2022-11-30 21:40:41\",\"INCOUNT\":9414.0,\"OUTCOUNT\":13800.0}]}})\n",
    "data"
   ]
  },
  {
   "cell_type": "code",
   "execution_count": 96,
   "metadata": {},
   "outputs": [
    {
     "name": "stdout",
     "output_type": "stream",
     "text": [
      "{'BukChonInOutPeopleInfo': {'list_total_count': 29321, 'RESULT': {'CODE': 'INFO-000', 'MESSAGE': '정상 처리되었습니다'}, 'row': [{'DEVICEID': 2.0, 'DEVICENAME': '계동길 69', 'DESCRIPTION': '계동교회 앞', 'STARTTIME': '2022-11-30 21:10:41', 'ENDTIME': '2022-11-30 21:20:41', 'INCOUNT': 9386.0, 'OUTCOUNT': 13749.0}, {'DEVICEID': 1.0, 'DEVICENAME': '율곡로3길 50', 'DESCRIPTION': '덕성여고 앞', 'STARTTIME': '2022-11-30 21:10:41', 'ENDTIME': '2022-11-30 21:20:41', 'INCOUNT': 7903.0, 'OUTCOUNT': 5279.0}, {'DEVICEID': 2.0, 'DEVICENAME': '계동길 69', 'DESCRIPTION': '계동교회 앞', 'STARTTIME': '2022-11-30 21:20:41', 'ENDTIME': '2022-11-30 21:30:41', 'INCOUNT': 9398.0, 'OUTCOUNT': 13776.0}, {'DEVICEID': 1.0, 'DEVICENAME': '율곡로3길 50', 'DESCRIPTION': '덕성여고 앞', 'STARTTIME': '2022-11-30 21:20:41', 'ENDTIME': '2022-11-30 21:30:41', 'INCOUNT': 7927.0, 'OUTCOUNT': 5312.0}, {'DEVICEID': 2.0, 'DEVICENAME': '계동길 69', 'DESCRIPTION': '계동교회 앞', 'STARTTIME': '2022-11-30 21:30:41', 'ENDTIME': '2022-11-30 21:40:41', 'INCOUNT': 9414.0, 'OUTCOUNT': 13800.0}]}}\n"
     ]
    }
   ],
   "source": [
    "dict_data = dict(eval(data))\n",
    "print(dict_data)"
   ]
  },
  {
   "cell_type": "code",
   "execution_count": 97,
   "metadata": {},
   "outputs": [
    {
     "data": {
      "text/plain": [
       "dict"
      ]
     },
     "execution_count": 97,
     "metadata": {},
     "output_type": "execute_result"
    }
   ],
   "source": [
    "type(dict_data)"
   ]
  },
  {
   "cell_type": "code",
   "execution_count": 98,
   "metadata": {},
   "outputs": [
    {
     "data": {
      "text/plain": [
       "dict_keys(['BukChonInOutPeopleInfo'])"
      ]
     },
     "execution_count": 98,
     "metadata": {},
     "output_type": "execute_result"
    }
   ],
   "source": [
    "dict_data.keys()"
   ]
  },
  {
   "cell_type": "code",
   "execution_count": 99,
   "metadata": {},
   "outputs": [
    {
     "data": {
      "text/html": [
       "<div>\n",
       "<style scoped>\n",
       "    .dataframe tbody tr th:only-of-type {\n",
       "        vertical-align: middle;\n",
       "    }\n",
       "\n",
       "    .dataframe tbody tr th {\n",
       "        vertical-align: top;\n",
       "    }\n",
       "\n",
       "    .dataframe thead th {\n",
       "        text-align: right;\n",
       "    }\n",
       "</style>\n",
       "<table border=\"1\" class=\"dataframe\">\n",
       "  <thead>\n",
       "    <tr style=\"text-align: right;\">\n",
       "      <th></th>\n",
       "      <th>DEVICEID</th>\n",
       "      <th>DEVICENAME</th>\n",
       "      <th>DESCRIPTION</th>\n",
       "      <th>STARTTIME</th>\n",
       "      <th>ENDTIME</th>\n",
       "      <th>INCOUNT</th>\n",
       "      <th>OUTCOUNT</th>\n",
       "    </tr>\n",
       "  </thead>\n",
       "  <tbody>\n",
       "    <tr>\n",
       "      <th>0</th>\n",
       "      <td>2.0</td>\n",
       "      <td>계동길 69</td>\n",
       "      <td>계동교회 앞</td>\n",
       "      <td>2022-11-30 21:10:41</td>\n",
       "      <td>2022-11-30 21:20:41</td>\n",
       "      <td>9386.0</td>\n",
       "      <td>13749.0</td>\n",
       "    </tr>\n",
       "    <tr>\n",
       "      <th>1</th>\n",
       "      <td>1.0</td>\n",
       "      <td>율곡로3길 50</td>\n",
       "      <td>덕성여고 앞</td>\n",
       "      <td>2022-11-30 21:10:41</td>\n",
       "      <td>2022-11-30 21:20:41</td>\n",
       "      <td>7903.0</td>\n",
       "      <td>5279.0</td>\n",
       "    </tr>\n",
       "    <tr>\n",
       "      <th>2</th>\n",
       "      <td>2.0</td>\n",
       "      <td>계동길 69</td>\n",
       "      <td>계동교회 앞</td>\n",
       "      <td>2022-11-30 21:20:41</td>\n",
       "      <td>2022-11-30 21:30:41</td>\n",
       "      <td>9398.0</td>\n",
       "      <td>13776.0</td>\n",
       "    </tr>\n",
       "    <tr>\n",
       "      <th>3</th>\n",
       "      <td>1.0</td>\n",
       "      <td>율곡로3길 50</td>\n",
       "      <td>덕성여고 앞</td>\n",
       "      <td>2022-11-30 21:20:41</td>\n",
       "      <td>2022-11-30 21:30:41</td>\n",
       "      <td>7927.0</td>\n",
       "      <td>5312.0</td>\n",
       "    </tr>\n",
       "    <tr>\n",
       "      <th>4</th>\n",
       "      <td>2.0</td>\n",
       "      <td>계동길 69</td>\n",
       "      <td>계동교회 앞</td>\n",
       "      <td>2022-11-30 21:30:41</td>\n",
       "      <td>2022-11-30 21:40:41</td>\n",
       "      <td>9414.0</td>\n",
       "      <td>13800.0</td>\n",
       "    </tr>\n",
       "  </tbody>\n",
       "</table>\n",
       "</div>"
      ],
      "text/plain": [
       "   DEVICEID DEVICENAME DESCRIPTION            STARTTIME              ENDTIME  \\\n",
       "0       2.0     계동길 69      계동교회 앞  2022-11-30 21:10:41  2022-11-30 21:20:41   \n",
       "1       1.0   율곡로3길 50      덕성여고 앞  2022-11-30 21:10:41  2022-11-30 21:20:41   \n",
       "2       2.0     계동길 69      계동교회 앞  2022-11-30 21:20:41  2022-11-30 21:30:41   \n",
       "3       1.0   율곡로3길 50      덕성여고 앞  2022-11-30 21:20:41  2022-11-30 21:30:41   \n",
       "4       2.0     계동길 69      계동교회 앞  2022-11-30 21:30:41  2022-11-30 21:40:41   \n",
       "\n",
       "   INCOUNT  OUTCOUNT  \n",
       "0   9386.0   13749.0  \n",
       "1   7903.0    5279.0  \n",
       "2   9398.0   13776.0  \n",
       "3   7927.0    5312.0  \n",
       "4   9414.0   13800.0  "
      ]
     },
     "execution_count": 99,
     "metadata": {},
     "output_type": "execute_result"
    }
   ],
   "source": [
    "import pandas as pd\n",
    "\n",
    "df = pd.DataFrame(dict_data['BukChonInOutPeopleInfo']['row'])\n",
    "df"
   ]
  },
  {
   "cell_type": "code",
   "execution_count": 100,
   "metadata": {},
   "outputs": [
    {
     "data": {
      "text/html": [
       "<div>\n",
       "<style scoped>\n",
       "    .dataframe tbody tr th:only-of-type {\n",
       "        vertical-align: middle;\n",
       "    }\n",
       "\n",
       "    .dataframe tbody tr th {\n",
       "        vertical-align: top;\n",
       "    }\n",
       "\n",
       "    .dataframe thead th {\n",
       "        text-align: right;\n",
       "    }\n",
       "</style>\n",
       "<table border=\"1\" class=\"dataframe\">\n",
       "  <thead>\n",
       "    <tr style=\"text-align: right;\">\n",
       "      <th></th>\n",
       "      <th>DEVICEID</th>\n",
       "      <th>DEVICENAME</th>\n",
       "      <th>DESCRIPTION</th>\n",
       "      <th>STARTTIME</th>\n",
       "      <th>ENDTIME</th>\n",
       "      <th>INCOUNT</th>\n",
       "      <th>OUTCOUNT</th>\n",
       "      <th>MONTH</th>\n",
       "    </tr>\n",
       "  </thead>\n",
       "  <tbody>\n",
       "    <tr>\n",
       "      <th>0</th>\n",
       "      <td>2.0</td>\n",
       "      <td>계동길 69</td>\n",
       "      <td>계동교회 앞</td>\n",
       "      <td>2022-11-30 21:10:41</td>\n",
       "      <td>2022-11-30 21:20:41</td>\n",
       "      <td>9386.0</td>\n",
       "      <td>13749.0</td>\n",
       "      <td>11</td>\n",
       "    </tr>\n",
       "    <tr>\n",
       "      <th>1</th>\n",
       "      <td>1.0</td>\n",
       "      <td>율곡로3길 50</td>\n",
       "      <td>덕성여고 앞</td>\n",
       "      <td>2022-11-30 21:10:41</td>\n",
       "      <td>2022-11-30 21:20:41</td>\n",
       "      <td>7903.0</td>\n",
       "      <td>5279.0</td>\n",
       "      <td>11</td>\n",
       "    </tr>\n",
       "    <tr>\n",
       "      <th>2</th>\n",
       "      <td>2.0</td>\n",
       "      <td>계동길 69</td>\n",
       "      <td>계동교회 앞</td>\n",
       "      <td>2022-11-30 21:20:41</td>\n",
       "      <td>2022-11-30 21:30:41</td>\n",
       "      <td>9398.0</td>\n",
       "      <td>13776.0</td>\n",
       "      <td>11</td>\n",
       "    </tr>\n",
       "    <tr>\n",
       "      <th>3</th>\n",
       "      <td>1.0</td>\n",
       "      <td>율곡로3길 50</td>\n",
       "      <td>덕성여고 앞</td>\n",
       "      <td>2022-11-30 21:20:41</td>\n",
       "      <td>2022-11-30 21:30:41</td>\n",
       "      <td>7927.0</td>\n",
       "      <td>5312.0</td>\n",
       "      <td>11</td>\n",
       "    </tr>\n",
       "    <tr>\n",
       "      <th>4</th>\n",
       "      <td>2.0</td>\n",
       "      <td>계동길 69</td>\n",
       "      <td>계동교회 앞</td>\n",
       "      <td>2022-11-30 21:30:41</td>\n",
       "      <td>2022-11-30 21:40:41</td>\n",
       "      <td>9414.0</td>\n",
       "      <td>13800.0</td>\n",
       "      <td>11</td>\n",
       "    </tr>\n",
       "  </tbody>\n",
       "</table>\n",
       "</div>"
      ],
      "text/plain": [
       "   DEVICEID DEVICENAME DESCRIPTION            STARTTIME             ENDTIME  \\\n",
       "0       2.0     계동길 69      계동교회 앞  2022-11-30 21:10:41 2022-11-30 21:20:41   \n",
       "1       1.0   율곡로3길 50      덕성여고 앞  2022-11-30 21:10:41 2022-11-30 21:20:41   \n",
       "2       2.0     계동길 69      계동교회 앞  2022-11-30 21:20:41 2022-11-30 21:30:41   \n",
       "3       1.0   율곡로3길 50      덕성여고 앞  2022-11-30 21:20:41 2022-11-30 21:30:41   \n",
       "4       2.0     계동길 69      계동교회 앞  2022-11-30 21:30:41 2022-11-30 21:40:41   \n",
       "\n",
       "   INCOUNT  OUTCOUNT  MONTH  \n",
       "0   9386.0   13749.0     11  \n",
       "1   7903.0    5279.0     11  \n",
       "2   9398.0   13776.0     11  \n",
       "3   7927.0    5312.0     11  \n",
       "4   9414.0   13800.0     11  "
      ]
     },
     "execution_count": 100,
     "metadata": {},
     "output_type": "execute_result"
    }
   ],
   "source": [
    "df['ENDTIME'] = pd.to_datetime(df['ENDTIME'])\n",
    "df['MONTH'] = df['ENDTIME'].dt.month\n",
    "df"
   ]
  },
  {
   "cell_type": "code",
   "execution_count": 105,
   "metadata": {},
   "outputs": [
    {
     "data": {
      "text/plain": [
       "8805.6"
      ]
     },
     "execution_count": 105,
     "metadata": {},
     "output_type": "execute_result"
    }
   ],
   "source": [
    "df.loc[df['MONTH'] == 11, 'INCOUNT'].mean()"
   ]
  },
  {
   "cell_type": "code",
   "execution_count": 102,
   "metadata": {},
   "outputs": [
    {
     "data": {
      "text/plain": [
       "MONTH\n",
       "11    10383.2\n",
       "Name: OUTCOUNT, dtype: float64"
      ]
     },
     "execution_count": 102,
     "metadata": {},
     "output_type": "execute_result"
    }
   ],
   "source": [
    "df.groupby('MONTH')['OUTCOUNT'].mean()"
   ]
  },
  {
   "cell_type": "code",
   "execution_count": 103,
   "metadata": {},
   "outputs": [
    {
     "data": {
      "text/html": [
       "<div>\n",
       "<style scoped>\n",
       "    .dataframe tbody tr th:only-of-type {\n",
       "        vertical-align: middle;\n",
       "    }\n",
       "\n",
       "    .dataframe tbody tr th {\n",
       "        vertical-align: top;\n",
       "    }\n",
       "\n",
       "    .dataframe thead tr th {\n",
       "        text-align: left;\n",
       "    }\n",
       "\n",
       "    .dataframe thead tr:last-of-type th {\n",
       "        text-align: right;\n",
       "    }\n",
       "</style>\n",
       "<table border=\"1\" class=\"dataframe\">\n",
       "  <thead>\n",
       "    <tr>\n",
       "      <th></th>\n",
       "      <th colspan=\"2\" halign=\"left\">INCOUNT</th>\n",
       "      <th colspan=\"2\" halign=\"left\">OUTCOUNT</th>\n",
       "    </tr>\n",
       "    <tr>\n",
       "      <th></th>\n",
       "      <th>min</th>\n",
       "      <th>max</th>\n",
       "      <th>min</th>\n",
       "      <th>max</th>\n",
       "    </tr>\n",
       "    <tr>\n",
       "      <th>MONTH</th>\n",
       "      <th></th>\n",
       "      <th></th>\n",
       "      <th></th>\n",
       "      <th></th>\n",
       "    </tr>\n",
       "  </thead>\n",
       "  <tbody>\n",
       "    <tr>\n",
       "      <th>11</th>\n",
       "      <td>7903.0</td>\n",
       "      <td>9414.0</td>\n",
       "      <td>5279.0</td>\n",
       "      <td>13800.0</td>\n",
       "    </tr>\n",
       "  </tbody>\n",
       "</table>\n",
       "</div>"
      ],
      "text/plain": [
       "      INCOUNT         OUTCOUNT         \n",
       "          min     max      min      max\n",
       "MONTH                                  \n",
       "11     7903.0  9414.0   5279.0  13800.0"
      ]
     },
     "execution_count": 103,
     "metadata": {},
     "output_type": "execute_result"
    }
   ],
   "source": [
    "df.groupby('MONTH')[['INCOUNT', 'OUTCOUNT']].agg(['min', 'max'])"
   ]
  },
  {
   "cell_type": "code",
   "execution_count": 104,
   "metadata": {},
   "outputs": [
    {
     "data": {
      "image/png": "[encoded data removed]",
      "text/plain": [
       "<Figure size 640x480 with 1 Axes>"
      ]
     },
     "metadata": {},
     "output_type": "display_data"
    }
   ],
   "source": [
    "import seaborn as sns\n",
    "sns.barplot(data=df, x='MONTH', y='OUTCOUNT');"
   ]
  }
 ],
 "metadata": {
  "kernelspec": {
   "display_name": "Python 3",
   "language": "python",
   "name": "python3"
  },
  "language_info": {
   "codemirror_mode": {
    "name": "ipython",
    "version": 3
   },
   "file_extension": ".py",
   "mimetype": "text/x-python",
   "name": "python",
   "nbconvert_exporter": "python",
   "pygments_lexer": "ipython3",
   "version": "3.10.9 (tags/v3.10.9:1dd9be6, Dec  6 2022, 20:01:21) [MSC v.1934 64 bit (AMD64)]"
  },
  "orig_nbformat": 4,
  "vscode": {
   "interpreter": {
    "hash": "278753cf3c434a72ccd851cd6f0af1c9786f0888eb152e155934ea6b02ca21e3"
   }
  }
 },
 "nbformat": 4,
 "nbformat_minor": 2
}
