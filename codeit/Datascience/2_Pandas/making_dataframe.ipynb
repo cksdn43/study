{
 "cells": [
  {
   "cell_type": "code",
   "execution_count": 2,
   "metadata": {},
   "outputs": [],
   "source": [
    "import numpy as np\n",
    "import pandas as pd\n",
    "\n",
    "two_dimensional_list = [['dongwook', 50, 86], ['sineui', 89, 31], ['ikjoong', 68, 91], ['yoonsoo', 88, 75]]\n",
    "two_dimensional_array = np.array(two_dimensional_list)\n",
    "\n",
    "list_of_series = [\n",
    "    pd.Series(['dongwook', 50, 86]),\n",
    "    pd.Series(['sineui', 89, 31]),\n",
    "    pd.Series(['ikjoong', 68, 91]),\n",
    "    pd.Series(['yoonsoo', 88, 75])\n",
    "]\n",
    "\n",
    "df1 = pd.DataFrame(two_dimensional_list)\n",
    "df2 = pd.DataFrame(two_dimensional_array)\n",
    "df3 = pd.DataFrame(list_of_series)"
   ]
  },
  {
   "cell_type": "code",
   "execution_count": 6,
   "metadata": {},
   "outputs": [
    {
     "name": "stdout",
     "output_type": "stream",
     "text": [
      "          0   1   2\n",
      "0  dongwook  50  86\n",
      "1    sineui  89  31\n",
      "2   ikjoong  68  91\n",
      "3   yoonsoo  88  75\n"
     ]
    }
   ],
   "source": [
    "print(df1)"
   ]
  },
  {
   "cell_type": "code",
   "execution_count": 4,
   "metadata": {},
   "outputs": [
    {
     "data": {
      "text/html": [
       "<div>\n",
       "<style scoped>\n",
       "    .dataframe tbody tr th:only-of-type {\n",
       "        vertical-align: middle;\n",
       "    }\n",
       "\n",
       "    .dataframe tbody tr th {\n",
       "        vertical-align: top;\n",
       "    }\n",
       "\n",
       "    .dataframe thead th {\n",
       "        text-align: right;\n",
       "    }\n",
       "</style>\n",
       "<table border=\"1\" class=\"dataframe\">\n",
       "  <thead>\n",
       "    <tr style=\"text-align: right;\">\n",
       "      <th></th>\n",
       "      <th>0</th>\n",
       "      <th>1</th>\n",
       "      <th>2</th>\n",
       "    </tr>\n",
       "  </thead>\n",
       "  <tbody>\n",
       "    <tr>\n",
       "      <th>0</th>\n",
       "      <td>dongwook</td>\n",
       "      <td>50</td>\n",
       "      <td>86</td>\n",
       "    </tr>\n",
       "    <tr>\n",
       "      <th>1</th>\n",
       "      <td>sineui</td>\n",
       "      <td>89</td>\n",
       "      <td>31</td>\n",
       "    </tr>\n",
       "    <tr>\n",
       "      <th>2</th>\n",
       "      <td>ikjoong</td>\n",
       "      <td>68</td>\n",
       "      <td>91</td>\n",
       "    </tr>\n",
       "    <tr>\n",
       "      <th>3</th>\n",
       "      <td>yoonsoo</td>\n",
       "      <td>88</td>\n",
       "      <td>75</td>\n",
       "    </tr>\n",
       "  </tbody>\n",
       "</table>\n",
       "</div>"
      ],
      "text/plain": [
       "          0   1   2\n",
       "0  dongwook  50  86\n",
       "1    sineui  89  31\n",
       "2   ikjoong  68  91\n",
       "3   yoonsoo  88  75"
      ]
     },
     "execution_count": 4,
     "metadata": {},
     "output_type": "execute_result"
    }
   ],
   "source": [
    "df2"
   ]
  },
  {
   "cell_type": "code",
   "execution_count": 5,
   "metadata": {},
   "outputs": [
    {
     "data": {
      "text/html": [
       "<div>\n",
       "<style scoped>\n",
       "    .dataframe tbody tr th:only-of-type {\n",
       "        vertical-align: middle;\n",
       "    }\n",
       "\n",
       "    .dataframe tbody tr th {\n",
       "        vertical-align: top;\n",
       "    }\n",
       "\n",
       "    .dataframe thead th {\n",
       "        text-align: right;\n",
       "    }\n",
       "</style>\n",
       "<table border=\"1\" class=\"dataframe\">\n",
       "  <thead>\n",
       "    <tr style=\"text-align: right;\">\n",
       "      <th></th>\n",
       "      <th>0</th>\n",
       "      <th>1</th>\n",
       "      <th>2</th>\n",
       "    </tr>\n",
       "  </thead>\n",
       "  <tbody>\n",
       "    <tr>\n",
       "      <th>0</th>\n",
       "      <td>dongwook</td>\n",
       "      <td>50</td>\n",
       "      <td>86</td>\n",
       "    </tr>\n",
       "    <tr>\n",
       "      <th>1</th>\n",
       "      <td>sineui</td>\n",
       "      <td>89</td>\n",
       "      <td>31</td>\n",
       "    </tr>\n",
       "    <tr>\n",
       "      <th>2</th>\n",
       "      <td>ikjoong</td>\n",
       "      <td>68</td>\n",
       "      <td>91</td>\n",
       "    </tr>\n",
       "    <tr>\n",
       "      <th>3</th>\n",
       "      <td>yoonsoo</td>\n",
       "      <td>88</td>\n",
       "      <td>75</td>\n",
       "    </tr>\n",
       "  </tbody>\n",
       "</table>\n",
       "</div>"
      ],
      "text/plain": [
       "          0   1   2\n",
       "0  dongwook  50  86\n",
       "1    sineui  89  31\n",
       "2   ikjoong  68  91\n",
       "3   yoonsoo  88  75"
      ]
     },
     "execution_count": 5,
     "metadata": {},
     "output_type": "execute_result"
    }
   ],
   "source": [
    "df3"
   ]
  },
  {
   "cell_type": "code",
   "execution_count": 14,
   "metadata": {},
   "outputs": [
    {
     "name": "stdout",
     "output_type": "stream",
     "text": [
      "       name  english_score  math_score\n",
      "0  dongwook             50          86\n",
      "1    sineui             89          31\n",
      "2   ikjoong             68          91\n",
      "3   yoonsoo             88          75\n",
      "       name  english  math_score\n",
      "0  dongwook       50          86\n",
      "1    sineui       89          31\n",
      "2   ikjoong       68          91\n",
      "3   yoonsoo       88          75\n"
     ]
    },
    {
     "data": {
      "text/html": [
       "<div>\n",
       "<style scoped>\n",
       "    .dataframe tbody tr th:only-of-type {\n",
       "        vertical-align: middle;\n",
       "    }\n",
       "\n",
       "    .dataframe tbody tr th {\n",
       "        vertical-align: top;\n",
       "    }\n",
       "\n",
       "    .dataframe thead th {\n",
       "        text-align: right;\n",
       "    }\n",
       "</style>\n",
       "<table border=\"1\" class=\"dataframe\">\n",
       "  <thead>\n",
       "    <tr style=\"text-align: right;\">\n",
       "      <th></th>\n",
       "      <th>name</th>\n",
       "      <th>english_score</th>\n",
       "      <th>math_score</th>\n",
       "    </tr>\n",
       "  </thead>\n",
       "  <tbody>\n",
       "    <tr>\n",
       "      <th>0</th>\n",
       "      <td>dongwook</td>\n",
       "      <td>50</td>\n",
       "      <td>86</td>\n",
       "    </tr>\n",
       "    <tr>\n",
       "      <th>1</th>\n",
       "      <td>sineui</td>\n",
       "      <td>89</td>\n",
       "      <td>31</td>\n",
       "    </tr>\n",
       "    <tr>\n",
       "      <th>2</th>\n",
       "      <td>ikjoong</td>\n",
       "      <td>68</td>\n",
       "      <td>91</td>\n",
       "    </tr>\n",
       "    <tr>\n",
       "      <th>3</th>\n",
       "      <td>yoonsoo</td>\n",
       "      <td>88</td>\n",
       "      <td>75</td>\n",
       "    </tr>\n",
       "  </tbody>\n",
       "</table>\n",
       "</div>"
      ],
      "text/plain": [
       "       name  english_score  math_score\n",
       "0  dongwook             50          86\n",
       "1    sineui             89          31\n",
       "2   ikjoong             68          91\n",
       "3   yoonsoo             88          75"
      ]
     },
     "execution_count": 14,
     "metadata": {},
     "output_type": "execute_result"
    }
   ],
   "source": [
    "names = ['dongwook', 'sineui', 'ikjoong', 'yoonsoo']\n",
    "english_scores = [50,  89, 68, 88]\n",
    "math_scores = [86, 31, 91, 75]\n",
    "\n",
    "dict1 = {\n",
    "    'name': names,\n",
    "    'english_score':english_scores,\n",
    "    'math_score':math_scores\n",
    "}\n",
    "dict2 = {\n",
    "    'name': np.array(names),\n",
    "    'english':pd.array(english_scores),\n",
    "    'math_score': pd.array(math_scores)\n",
    "}\n",
    "dict3={\n",
    "    'name': pd.Series(names),\n",
    "    'english_score':pd.Series(english_scores),\n",
    "    'math_score':pd.Series(math_scores)\n",
    "}\n",
    "\n",
    "df1 = pd.DataFrame(dict1)\n",
    "df2 = pd.DataFrame(dict2)\n",
    "df3 = pd.DataFrame(dict3)\n",
    "\n",
    "print(df1)\n",
    "print(df2)\n",
    "df3"
   ]
  },
  {
   "cell_type": "code",
   "execution_count": 15,
   "metadata": {},
   "outputs": [
    {
     "name": "stdout",
     "output_type": "stream",
     "text": [
      "       name  english_score  math_score\n",
      "0  dongwook             50          86\n",
      "1    sineui             89          31\n",
      "2   ikjoong             68          91\n",
      "3   yoonsoo             88          75\n"
     ]
    }
   ],
   "source": [
    "my_list = [\n",
    "    {'name': 'dongwook', 'english_score': 50, 'math_score': 86},\n",
    "    {'name': 'sineui', 'english_score': 89, 'math_score': 31},\n",
    "    {'name': 'ikjoong', 'english_score': 68, 'math_score': 91},\n",
    "    {'name': 'yoonsoo', 'english_score': 88, 'math_score': 75}\n",
    "]\n",
    "\n",
    "df = pd.DataFrame(my_list)\n",
    "print(df)"
   ]
  }
 ],
 "metadata": {
  "kernelspec": {
   "display_name": "Python 3",
   "language": "python",
   "name": "python3"
  },
  "language_info": {
   "codemirror_mode": {
    "name": "ipython",
    "version": 3
   },
   "file_extension": ".py",
   "mimetype": "text/x-python",
   "name": "python",
   "nbconvert_exporter": "python",
   "pygments_lexer": "ipython3",
   "version": "3.10.9 (tags/v3.10.9:1dd9be6, Dec  6 2022, 20:01:21) [MSC v.1934 64 bit (AMD64)]"
  },
  "orig_nbformat": 4,
  "vscode": {
   "interpreter": {
    "hash": "3fa1656aaf4cd10b432efd4b646cdb74efa981b7104e2e3df2b997c5e14d9549"
   }
  }
 },
 "nbformat": 4,
 "nbformat_minor": 2
}
