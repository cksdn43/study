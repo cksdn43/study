{
 "cells": [
  {
   "cell_type": "code",
   "execution_count": 1,
   "metadata": {},
   "outputs": [
    {
     "name": "stdout",
     "output_type": "stream",
     "text": [
      "6\n"
     ]
    }
   ],
   "source": [
    "# 첫번째 풀이 예외 발생!\n",
    "\n",
    "money = int(input())\n",
    "\n",
    "coins = [500, 100, 50, 10]\n",
    "\n",
    "cnt = 0\n",
    "\n",
    "for coin in coins:\n",
    "    cnt += money // coin\n",
    "    money %= coin\n",
    "\n",
    "print(cnt)\n"
   ]
  },
  {
   "cell_type": "code",
   "execution_count": 2,
   "metadata": {},
   "outputs": [
    {
     "name": "stdout",
     "output_type": "stream",
     "text": [
      "6\n"
     ]
    }
   ],
   "source": [
    "# 두번째 풀이\n",
    "money = int(input())\n",
    "\n",
    "coins = [500, 100, 50, 10]\n",
    "\n",
    "cnt = money // coins[-1]\n",
    "\n",
    "for i in range(len(coins)-1):\n",
    "    result = 0\n",
    "    n = money\n",
    "    for j in range(i, len(coins)):\n",
    "        result += n // coins[j]\n",
    "        n %= coins[j]\n",
    "    if cnt > result:\n",
    "        cnt = result\n",
    "print(cnt)\n"
   ]
  }
 ],
 "metadata": {
  "kernelspec": {
   "display_name": "Python 3.11.0 64-bit",
   "language": "python",
   "name": "python3"
  },
  "language_info": {
   "codemirror_mode": {
    "name": "ipython",
    "version": 3
   },
   "file_extension": ".py",
   "mimetype": "text/x-python",
   "name": "python",
   "nbconvert_exporter": "python",
   "pygments_lexer": "ipython3",
   "version": "3.11.0"
  },
  "orig_nbformat": 4,
  "vscode": {
   "interpreter": {
    "hash": "c211c28c13ef7ebabd434b84ef905bb2022ed51bc0e2218876911f322fbd7cd2"
   }
  }
 },
 "nbformat": 4,
 "nbformat_minor": 2
}
