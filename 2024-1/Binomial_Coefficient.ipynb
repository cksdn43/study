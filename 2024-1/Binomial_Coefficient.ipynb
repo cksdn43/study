{
 "cells": [
  {
   "cell_type": "markdown",
   "metadata": {},
   "source": [
    "week 4"
   ]
  },
  {
   "cell_type": "code",
   "execution_count": 5,
   "metadata": {},
   "outputs": [
    {
     "name": "stdout",
     "output_type": "stream",
     "text": [
      "10\n"
     ]
    }
   ],
   "source": [
    "# D&C solution\n",
    "def B(n, k):\n",
    "    if(n == k or k == 0): return 1\n",
    "    else:\n",
    "        return B(n-1, k-1) + B(n-1, k)\n",
    "\n",
    "print(B(5, 3))"
   ]
  },
  {
   "cell_type": "code",
   "execution_count": 4,
   "metadata": {},
   "outputs": [
    {
     "name": "stdout",
     "output_type": "stream",
     "text": [
      "10\n"
     ]
    }
   ],
   "source": [
    "# DP solution\n",
    "\n",
    "memo = {(0, 0): 1}\n",
    "def B(n, k):\n",
    "    if(n <= k or k == 0): memo[(n, k)] = 1\n",
    "    else:\n",
    "        try:\n",
    "            memo[(n, k)] = memo[(n-1, k-1)] + memo[(n-1, k)]\n",
    "        except:\n",
    "            try:\n",
    "                memo[(n, k)] = memo[(n-1, k-1)] + B(n-1, k)\n",
    "            except:\n",
    "                try:\n",
    "                    memo[(n, k)] = B(n-1, k-1) + memo[(n-1, k)]\n",
    "                except:\n",
    "                    memo[(n, k)] = B(n-1, k-1) + B(n-1, k)\n",
    "    return memo[(n, k)]\n",
    "\n",
    "print(B(5, 3))"
   ]
  },
  {
   "cell_type": "code",
   "execution_count": 8,
   "metadata": {},
   "outputs": [
    {
     "name": "stdout",
     "output_type": "stream",
     "text": [
      "5\n"
     ]
    }
   ],
   "source": [
    "memo = {}\n",
    "n = 5\n",
    "k = 4\n",
    "memo[(n, k)] = 5\n",
    "print(memo[(n, k)])"
   ]
  }
 ],
 "metadata": {
  "kernelspec": {
   "display_name": "Python 3",
   "language": "python",
   "name": "python3"
  },
  "language_info": {
   "codemirror_mode": {
    "name": "ipython",
    "version": 3
   },
   "file_extension": ".py",
   "mimetype": "text/x-python",
   "name": "python",
   "nbconvert_exporter": "python",
   "pygments_lexer": "ipython3",
   "version": "3.12.2"
  }
 },
 "nbformat": 4,
 "nbformat_minor": 2
}
