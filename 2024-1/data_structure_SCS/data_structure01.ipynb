{
 "cells": [
  {
   "cell_type": "markdown",
   "metadata": {},
   "source": [
    "Point 클래스 선언"
   ]
  },
  {
   "cell_type": "code",
   "execution_count": 6,
   "metadata": {},
   "outputs": [
    {
     "data": {
      "text/plain": [
       "<__main__.Point at 0x159bc8aca10>"
      ]
     },
     "execution_count": 6,
     "metadata": {},
     "output_type": "execute_result"
    }
   ],
   "source": [
    "class Point:\n",
    "    def __init__(self, x= 0, y = 0):\n",
    "        self.x = x\n",
    "        self.y = y\n",
    "\n",
    "p = Point(1, 2)\n",
    "p"
   ]
  },
  {
   "cell_type": "code",
   "execution_count": 7,
   "metadata": {},
   "outputs": [
    {
     "name": "stdout",
     "output_type": "stream",
     "text": [
      "(1, 2)\n"
     ]
    }
   ],
   "source": [
    "class Point:\n",
    "    def __init__(self, x= 0, y = 0):\n",
    "        self.x = x\n",
    "        self.y = y\n",
    "    def __str__(self):\n",
    "        return f\"({self.x}, {self.y})\"\n",
    "\n",
    "p = Point(1, 2) # x = 1, y = 2인 객체 생성\n",
    "print(p) # p.__str__()이 호출되고, 리턴된 (1, 2)를 출력함"
   ]
  },
  {
   "cell_type": "code",
   "execution_count": 8,
   "metadata": {},
   "outputs": [
    {
     "name": "stdout",
     "output_type": "stream",
     "text": [
      "(1, 2)\n"
     ]
    }
   ],
   "source": [
    "class Point:\n",
    "    def __init__(self, x= 0, y = 0):\n",
    "        self.x = x\n",
    "        self.y = y\n",
    "    def __str__(self):\n",
    "        return f\"({self.x}, {self.y})\"\n",
    "\n",
    "p = Point(1, 2) # x = 1, y = 2인 객체 생성\n",
    "s = str(p) # p.__str__()형식으로 호출됨\n",
    "print(s)"
   ]
  },
  {
   "cell_type": "markdown",
   "metadata": {},
   "source": [
    "Point 클래스 메쏘드 - 연산자 오버로딩"
   ]
  },
  {
   "cell_type": "code",
   "execution_count": 9,
   "metadata": {},
   "outputs": [
    {
     "name": "stdout",
     "output_type": "stream",
     "text": [
      "(4, 6) (4, 6)\n"
     ]
    }
   ],
   "source": [
    "class Point:\n",
    "    def __init__(self, x = 0, y = 0):\n",
    "        self.x = x\n",
    "        self.y = y\n",
    "\n",
    "    def __str__(self):\n",
    "        return f\"({self.x}, {self.y})\"\n",
    "    \n",
    "    def __add__(self, other):\n",
    "        return Point(self.x + other.x, self.y + other.y)\n",
    "\n",
    "p = Point(1, 2)\n",
    "q = Point(3, 4)\n",
    "r = p + q\n",
    "s = p.__add__(q)\n",
    "print(r, s)"
   ]
  },
  {
   "cell_type": "code",
   "execution_count": 11,
   "metadata": {},
   "outputs": [
    {
     "name": "stdout",
     "output_type": "stream",
     "text": [
      "(-2,-2)\n",
      "(3,6)\n"
     ]
    }
   ],
   "source": [
    "class Point:\n",
    "    def __init__(self, x = 0, y = 0):\n",
    "        self.x = x\n",
    "        self.y = y\n",
    "\n",
    "    def __str__(self):\n",
    "        return f\"({self.x},{self.y})\"\n",
    "    \n",
    "    def __add__(self, other):\n",
    "        return Point(self.x + other.x, self.y + other.y)\n",
    "    \n",
    "    def __sub__(self, other):\n",
    "        return Point(self.x - other.x, self.y - other.y)\n",
    "    \n",
    "    def __rmul__(self, other):\n",
    "        return Point(self.x * other, self.y * other)\n",
    "    \n",
    "p = Point(1, 2)\n",
    "q = Point(3, 4)\n",
    "r = p - q\n",
    "print(r)\n",
    "r = 3 * p\n",
    "print(r)\n",
    "# r = p * 3 # 이 문장은 에러를 발생시킨다.\n",
    "# print(r)"
   ]
  },
  {
   "cell_type": "markdown",
   "metadata": {},
   "source": [
    "Point 클래스 메쏘드 - 일반"
   ]
  },
  {
   "cell_type": "code",
   "execution_count": 13,
   "metadata": {},
   "outputs": [
    {
     "name": "stdout",
     "output_type": "stream",
     "text": [
      "p = (1, 2), q = (2, 3)\n",
      "length of p = 2.23606797749979\n",
      "dot of p and q = 8\n",
      "dist of p and q = 1.4142135623730951\n",
      "move p by (3, 5) = (4, 7)\n"
     ]
    }
   ],
   "source": [
    "import math\n",
    "\n",
    "class Point:\n",
    "    def __init__(self, x = 0, y = 0):\n",
    "        self.x = x\n",
    "        self.y = y\n",
    "\n",
    "    def __str__(self):\n",
    "        return f\"({self.x}, {self.y})\"\n",
    "    \n",
    "    def __sub__(self, other):\n",
    "        return Point(self.x - other.x, self.y - other.y)\n",
    "    \n",
    "    def length(self):\n",
    "        return math.sqrt(self.x**2 + self.y**2)\n",
    "    \n",
    "    def dot(self, q):\n",
    "        return self.x*q.x + self.y*q.y\n",
    "    \n",
    "    def dist(self, q):\n",
    "        return (self-q).length()\n",
    "    \n",
    "    def move(self, dx=0, dy=0):\n",
    "        self.x += dx\n",
    "        self.y += dy\n",
    "\n",
    "p = Point(1, 2)\n",
    "q = Point(2, 3)\n",
    "print(f\"p = {p}, q = {q}\")\n",
    "print(\"length of p =\",p.length())\n",
    "print(\"dot of p and q =\", p.dot(q))\n",
    "print(\"dist of p and q =\", p.dist(q))\n",
    "p.move(3, 5)\n",
    "print(\"move p by (3, 5) =\", p)"
   ]
  },
  {
   "cell_type": "code",
   "execution_count": 14,
   "metadata": {},
   "outputs": [
    {
     "name": "stdout",
     "output_type": "stream",
     "text": [
      "(4, 5)\n"
     ]
    }
   ],
   "source": [
    "import math\n",
    "\n",
    "class Point:\n",
    "    def __init__(self, x = 0, y = 0):\n",
    "        self.x = x\n",
    "        self.y = y\n",
    "\n",
    "    def getX(self):\n",
    "        return self.x\n",
    "    \n",
    "    def getY(self):\n",
    "        return self.y\n",
    "    \n",
    "    def get(self):\n",
    "        return self.x, self.y\n",
    "    \n",
    "    def setX(self, x):\n",
    "        self.x = x\n",
    "    \n",
    "    def setY(self, y):\n",
    "        self.y = y\n",
    "\n",
    "    def set(self, x, y):\n",
    "        self.x = x\n",
    "        self.y = y\n",
    "    \n",
    "\n",
    "p = Point(1, 2)\n",
    "q = Point(2, 3)\n",
    "p.set(4, 5)\n",
    "print(p.get())"
   ]
  },
  {
   "cell_type": "markdown",
   "metadata": {},
   "source": [
    "Point 클래스를 Vector 클래스로 확장"
   ]
  },
  {
   "cell_type": "code",
   "execution_count": 1,
   "metadata": {},
   "outputs": [
    {
     "name": "stdout",
     "output_type": "stream",
     "text": [
      "1 2 9 \n"
     ]
    }
   ],
   "source": [
    "class Vector:\n",
    "    def __init__(self, *args):\n",
    "        self._coords = list(args) #[x for x in args]\n",
    "\n",
    "    def __str__(self):\n",
    "        return str(self._coords)\n",
    "    \n",
    "    def __len__(self): # return its dimension\n",
    "        return len(self._coords)\n",
    "    \n",
    "    def __getitem__(self, k): # return the value of kth\n",
    "        return self._coords[k]\n",
    "    \n",
    "    def __setitem__(self, k, val): # return the value of kth dimension\n",
    "        self._coords[k] = val\n",
    "\n",
    "v = Vector(1, 2, 3)\n",
    "v[-1] = 9\n",
    "\n",
    "for c in v:\n",
    "    print(c, end=\" \")\n",
    "print()"
   ]
  }
 ],
 "metadata": {
  "kernelspec": {
   "display_name": "Python 3",
   "language": "python",
   "name": "python3"
  },
  "language_info": {
   "codemirror_mode": {
    "name": "ipython",
    "version": 3
   },
   "file_extension": ".py",
   "mimetype": "text/x-python",
   "name": "python",
   "nbconvert_exporter": "python",
   "pygments_lexer": "ipython3",
   "version": "3.12.2"
  }
 },
 "nbformat": 4,
 "nbformat_minor": 2
}
