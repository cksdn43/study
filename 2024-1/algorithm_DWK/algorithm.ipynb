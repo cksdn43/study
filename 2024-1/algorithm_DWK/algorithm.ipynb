{
 "cells": [
  {
   "cell_type": "code",
   "execution_count": 3,
   "metadata": {},
   "outputs": [
    {
     "name": "stdout",
     "output_type": "stream",
     "text": [
      "Y\n"
     ]
    }
   ],
   "source": [
    "# sequntial search O(n)\n",
    "S = [5, 7, 8, 10, 11, 13]\n",
    "x = 11\n",
    "answer = 'N'\n",
    "for i in S:\n",
    "    if i == x:\n",
    "        answer = 'Y'\n",
    "        break\n",
    "\n",
    "print(answer)"
   ]
  },
  {
   "cell_type": "code",
   "execution_count": 6,
   "metadata": {},
   "outputs": [
    {
     "name": "stdout",
     "output_type": "stream",
     "text": [
      "4\n"
     ]
    }
   ],
   "source": [
    "# binary search O(logn)\n",
    "List = [10, 12, 13, 14, 18, 20, 25, 27, 30, 35, 40]\n",
    "value = 18\n",
    "\n",
    "def binary_search(S, find, low, high):\n",
    "    if low > high: return -1\n",
    "    mid = (low + high)//2\n",
    "    if (find == S[mid]): print(mid)\n",
    "    elif(find < S[mid]): binary_search(S, find, low, mid)\n",
    "    else: binary_search(S, find, mid, high)\n",
    "\n",
    "binary_search(List, value, 0, 10)"
   ]
  }
 ],
 "metadata": {
  "kernelspec": {
   "display_name": "Python 3",
   "language": "python",
   "name": "python3"
  },
  "language_info": {
   "codemirror_mode": {
    "name": "ipython",
    "version": 3
   },
   "file_extension": ".py",
   "mimetype": "text/x-python",
   "name": "python",
   "nbconvert_exporter": "python",
   "pygments_lexer": "ipython3",
   "version": "3.12.2"
  }
 },
 "nbformat": 4,
 "nbformat_minor": 2
}
